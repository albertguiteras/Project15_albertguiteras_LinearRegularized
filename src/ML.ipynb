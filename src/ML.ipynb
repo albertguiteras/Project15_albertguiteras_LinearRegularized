{
 "cells": [
  {
   "cell_type": "code",
   "execution_count": 37,
   "metadata": {},
   "outputs": [],
   "source": [
    "import os\n",
    "import numpy as np \n",
    "import pandas as pd\n",
    "from sklearn.linear_model import LinearRegression\n",
    "from sklearn.metrics import mean_squared_error, r2_score\n",
    "from sklearn.feature_selection import SelectKBest, f_regression\n",
    "import json"
   ]
  },
  {
   "cell_type": "markdown",
   "metadata": {},
   "source": [
    "MODELO"
   ]
  },
  {
   "cell_type": "code",
   "execution_count": 38,
   "metadata": {},
   "outputs": [
    {
     "name": "stdout",
     "output_type": "stream",
     "text": [
      "Procesando dataset 1\n",
      "Procesando dataset 2\n",
      "Procesando dataset 3\n",
      "Procesando dataset 4\n",
      "Procesando dataset 5\n",
      "Procesando dataset 6\n"
     ]
    }
   ],
   "source": [
    "BASE_PATH = \"../data/processed\"\n",
    "TRAIN_PATHS = [\n",
    "    \"X_train_con_outliers.csv\",\n",
    "    \"X_train_sin_outliers.csv\",\n",
    "    \"X_train_con_outliers_norm.csv\",\n",
    "    \"X_train_sin_outliers_norm.csv\",\n",
    "    \"X_train_con_outliers_scal.csv\",\n",
    "    \"X_train_sin_outliers_scal.csv\"\n",
    "]\n",
    "TEST_PATHS = [\n",
    "    \"X_test_con_outliers.csv\",\n",
    "    \"X_test_sin_outliers.csv\",\n",
    "    \"X_test_con_outliers_norm.csv\",\n",
    "    \"X_test_sin_outliers_norm.csv\",\n",
    "    \"X_test_con_outliers_scal.csv\",\n",
    "    \"X_test_sin_outliers_scal.csv\"\n",
    "]\n",
    "\n",
    "# Leer los datasets de entrenamiento y prueba\n",
    "TRAIN_DATASETS = [pd.read_csv(os.path.join(BASE_PATH, path)) for path in TRAIN_PATHS]\n",
    "TEST_DATASETS = [pd.read_csv(os.path.join(BASE_PATH, path)) for path in TEST_PATHS]\n",
    "\n",
    "# Leer las etiquetas (target) de entrenamiento y prueba\n",
    "y_train = pd.read_csv(os.path.join(BASE_PATH, \"y_train.csv\")).values.ravel()\n",
    "y_test = pd.read_csv(os.path.join(BASE_PATH, \"y_test.csv\")).values.ravel()\n",
    "\n",
    "# Definir el número de características que deseas seleccionar\n",
    "k = int(len(pd.read_csv(f\"../data/processed/{TRAIN_PATHS[0]}\").columns) * 0.35)  # Puedes cambiar este valor según el número de características que desees seleccionar\n",
    "\n",
    "# Crear una lista para almacenar los resultados\n",
    "model_results = []\n",
    "\n",
    "# Crear un diccionario para almacenar todas las características seleccionadas\n",
    "all_selected_features = {}\n",
    "\n",
    "for index, dataset in enumerate(TRAIN_DATASETS):\n",
    "    print(f\"Procesando dataset {index + 1}\")\n",
    "\n",
    "    # Selección de características usando SelectKBest con f_regression (para regresión)\n",
    "    selector = SelectKBest(f_regression, k=k)\n",
    "    X_train_selected = selector.fit_transform(dataset, y_train)  # Ajuste y transformación para el conjunto de entrenamiento\n",
    "    X_test_selected = selector.transform(TEST_DATASETS[index])  # Transformación para el conjunto de prueba\n",
    "\n",
    "    # Almacenar las características seleccionadas en el diccionario\n",
    "    selected_features = dataset.columns[selector.get_support()].tolist()  # Obtener los nombres de las características seleccionadas\n",
    "    all_selected_features[TRAIN_PATHS[index]] = selected_features  # Usar el nombre del archivo como clave\n",
    "\n",
    "    # Crear y entrenar el modelo de regresión lineal\n",
    "    model = LinearRegression()\n",
    "    model.fit(X_train_selected, y_train)\n",
    "\n",
    "    # Predicciones en los datos de entrenamiento y prueba\n",
    "    y_train_pred = model.predict(X_train_selected)\n",
    "    y_test_pred = model.predict(X_test_selected)\n",
    "\n",
    "    # Calcular el MSE y R² para los datos de entrenamiento\n",
    "    mse_train = mean_squared_error(y_train, y_train_pred)\n",
    "    r2_train = r2_score(y_train, y_train_pred)\n",
    "\n",
    "    # Calcular el MSE y R² para los datos de prueba\n",
    "    mse_test = mean_squared_error(y_test, y_test_pred)\n",
    "    r2_test = r2_score(y_test, y_test_pred)\n",
    "\n",
    "    # Almacenar los resultados en la lista, usando el nombre del archivo como \"dataset\"\n",
    "    model_results.append(\n",
    "       {\n",
    "        \"dataset_TRAIN\": TRAIN_PATHS[index],  # Usar el nombre del archivo del dataset\n",
    "        \"MSE_train\": mse_train,  # Guardar mse_train como número (no como string)\n",
    "        \"r2_train\": r2_train,  # Guardar r2_train como número (no como string)\n",
    "        \"dataset_TEST\": TEST_PATHS[index],  # Usar el nombre del archivo del dataset\n",
    "        \"MSE_test\": mse_test,  # Guardar mse_test como número (no como string)\n",
    "        \"r2_test\": r2_test,  # Guardar r2_test como número (no como string)\n",
    "        \"feat_sel\": f\"k{k}\"\n",
    "    }\n",
    "    )\n",
    "\n",
    "# Convertir la lista de resultados en un DataFrame\n",
    "df_results = pd.DataFrame(model_results)\n",
    "\n",
    "# Guardar los resultados \n",
    "with open(os.path.join(f\"../models/model_results_k_{k}.json\"), 'w') as json_file:\n",
    "    json.dump(model_results, json_file, indent=4)\n",
    "\n",
    "# Guardar las características seleccionadas en un solo archivo JSON\n",
    "with open(os.path.join(f\"../models/selected_features_k_{k}.json\"), 'w') as json_file:\n",
    "    json.dump(all_selected_features, json_file, indent=4)"
   ]
  },
  {
   "cell_type": "markdown",
   "metadata": {},
   "source": [
    "RESULTADOS"
   ]
  },
  {
   "cell_type": "code",
   "execution_count": 39,
   "metadata": {},
   "outputs": [
    {
     "name": "stdout",
     "output_type": "stream",
     "text": [
      "Resultados de todos los datasets:\n",
      "     RMSE_train     RMSE_test  r2_train   r2_test\n",
      "0   2337.000346   2276.731879  0.999516  0.998581\n",
      "1  89411.741620  43971.568616  0.292242  0.470859\n",
      "2   2337.000346   2276.731879  0.999516  0.998581\n",
      "3  89411.741620  43971.568616  0.292242  0.470859\n",
      "4   2337.000346   2276.731879  0.999516  0.998581\n",
      "5  89411.741620  43971.568616  0.292242  0.470859\n",
      "\n",
      "El mejor dataset seleccionado según el menor RMSE en el conjunto de prueba:\n",
      "RMSE_train    2337.000346\n",
      "RMSE_test     2276.731879\n",
      "r2_train         0.999516\n",
      "r2_test          0.998581\n",
      "Name: 2, dtype: float64\n",
      "\n",
      "El mejor dataset de entrenamiento es: X_train_con_outliers_norm.csv\n",
      "El mejor dataset de prueba es: X_test_con_outliers_norm.csv\n"
     ]
    }
   ],
   "source": [
    "# Crear un DataFrame a partir de los resultados previos\n",
    "df_results = pd.DataFrame(model_results)\n",
    "\n",
    "# Calcular la raíz cuadrada del MSE (convertirlo a RMSE)\n",
    "df_results[\"RMSE_train\"] = np.sqrt(df_results[\"MSE_train\"])\n",
    "df_results[\"RMSE_test\"] = np.sqrt(df_results[\"MSE_test\"])\n",
    "\n",
    "# Reordenar las columnas para mostrar solo RMSE y R²\n",
    "df_results = df_results[[\"RMSE_train\", \"RMSE_test\", \"r2_train\", \"r2_test\"]]\n",
    "\n",
    "# Imprimir los resultados para revisar\n",
    "print(\"Resultados de todos los datasets:\")\n",
    "print(df_results)\n",
    "\n",
    "# Seleccionar el mejor dataset según el RMSE en el conjunto de prueba (menor RMSE)\n",
    "best_dataset_index = df_results[\"RMSE_test\"].idxmin()  # Encuentra el índice del menor RMSE en el conjunto de prueba\n",
    "best_dataset = df_results.iloc[best_dataset_index]  # Obtiene la fila completa con el mejor dataset\n",
    "\n",
    "# Imprimir el mejor dataset\n",
    "print(\"\\nEl mejor dataset seleccionado según el menor RMSE en el conjunto de prueba:\")\n",
    "print(best_dataset)\n",
    "\n",
    "# Obtener el nombre del archivo del mejor dataset\n",
    "best_train_dataset = TRAIN_PATHS[best_dataset_index]  # El nombre del dataset de entrenamiento correspondiente\n",
    "best_test_dataset = TEST_PATHS[best_dataset_index]  # El nombre del dataset de prueba correspondiente\n",
    "\n",
    "print(f\"\\nEl mejor dataset de entrenamiento es: {best_train_dataset}\")\n",
    "print(f\"El mejor dataset de prueba es: {best_test_dataset}\")\n"
   ]
  },
  {
   "cell_type": "code",
   "execution_count": 40,
   "metadata": {},
   "outputs": [],
   "source": [
    "# Definir el indice del mejor dataset\n",
    "best_dataset_idx = 2"
   ]
  },
  {
   "cell_type": "markdown",
   "metadata": {},
   "source": [
    "LASSO"
   ]
  },
  {
   "cell_type": "code",
   "execution_count": 41,
   "metadata": {},
   "outputs": [
    {
     "name": "stdout",
     "output_type": "stream",
     "text": [
      "3761950.193899409\n",
      "0.9996669503513365\n",
      "4606285.509463127\n",
      "0.9987393962995226\n"
     ]
    },
    {
     "name": "stderr",
     "output_type": "stream",
     "text": [
      "c:\\Users\\Albert\\AppData\\Local\\Programs\\Python\\Python312\\Lib\\site-packages\\sklearn\\linear_model\\_coordinate_descent.py:695: ConvergenceWarning: Objective did not converge. You might want to increase the number of iterations, check the scale of the features or consider increasing regularisation. Duality gap: 4.730e+09, tolerance: 2.837e+09\n",
      "  model = cd_fast.enet_coordinate_descent(\n"
     ]
    }
   ],
   "source": [
    "from sklearn.linear_model import Lasso\n",
    "\n",
    "alpha = 0.1\n",
    "lasso_model = Lasso(alpha = alpha, max_iter = 5000, random_state = 42)\n",
    "\n",
    "lasso_model.fit(TRAIN_DATASETS[best_dataset_idx], y_train)\n",
    "\n",
    "y_pred_train = lasso_model.predict(TRAIN_DATASETS[best_dataset_idx])\n",
    "y_pred_test = lasso_model.predict(TEST_DATASETS[best_dataset_idx])\n",
    "\n",
    "mse_train = mean_squared_error(y_train, y_pred_train)\n",
    "r2_train = r2_score(y_train, y_pred_train)\n",
    "\n",
    "mse_test = mean_squared_error(y_test, y_pred_test)\n",
    "r2_test = r2_score(y_test, y_pred_test)\n",
    "\n",
    "print(mse_train)\n",
    "print(r2_train)\n",
    "print(mse_test)\n",
    "print(r2_test)\n",
    "\n",
    "\n",
    "# df_results = pd.DataFrame(results)\n",
    "# # Calcular RMSE\n",
    "# df_results[\"train_rmse\"] = np.sqrt(df_results[\"train_mse\"])\n",
    "# df_results[\"test_rmse\"] = np.sqrt(df_results[\"test_mse\"])\n",
    "# # Seleccionar columnas relevantes para mostrar en tabla\n",
    "# df_results = df_results[[\"train_rmse\", \"test_rmse\", \"train_r2\", \"test_r2\"]]\n",
    "# # Mostrar tabla\n",
    "# print(df_results)\n",
    "\n",
    "# # Imprimir los resultados\n",
    "# print(f\"MSE: {mse}\")\n",
    "# print(f\"R2 Score: {r2}\")\n",
    "# print(\"\")\n",
    "# print(\"Coefficients:\", lasso_model.coef_)\n",
    "\n",
    "# # Crear un Diccionario con los resultados\n",
    "# lasso_results = {\n",
    "#     \"Model\": [\"Lasso\"],\n",
    "#     \"Alpha\": [alpha],\n",
    "#     \"MSE\": [mse],\n",
    "#     \"R2 Score\": [r2],\n",
    "# }\n",
    "\n",
    "# # Almacenar el resultado de lasso en un archivo\n",
    "# with open(os.path.join(f\"../data/results/lasso_results.json\"), 'w') as json_file:\n",
    "#     json.dump(lasso_results, json_file, indent=4)"
   ]
  },
  {
   "cell_type": "markdown",
   "metadata": {},
   "source": [
    "RIDGE"
   ]
  },
  {
   "cell_type": "code",
   "execution_count": 42,
   "metadata": {},
   "outputs": [
    {
     "name": "stdout",
     "output_type": "stream",
     "text": [
      "   train_r2     train_mse   test_r2      test_mse\n",
      "0  0.999675  3.671906e+06  0.998846  4.216755e+06\n"
     ]
    }
   ],
   "source": [
    "from sklearn.linear_model import Ridge\n",
    "from sklearn.model_selection import GridSearchCV\n",
    "\n",
    "ridge_model = Ridge(alpha = 0.5, random_state= 42)\n",
    "\n",
    "param_grid = {\n",
    "    \"alpha\": [0.01, 0.1, 1, 10, 100],\n",
    "    \"max_iter\": [100, 300, 1000, 2000, 4000, 8000, 12000],\n",
    "    \"tol\": np.linspace(0.0001, 0.01, 100),\n",
    "}\n",
    "\n",
    "grid_ridge = GridSearchCV(estimator = ridge_model, param_grid = param_grid, scoring = 'r2', cv = 5, n_jobs = -1)\n",
    "\n",
    "ridge_model.fit(TRAIN_DATASETS[best_dataset_idx], y_train)\n",
    "\n",
    "y_pred_train = ridge_model.predict(TRAIN_DATASETS[best_dataset_idx])\n",
    "y_pred_test = ridge_model.predict(TEST_DATASETS[best_dataset_idx])\n",
    "\n",
    "\n",
    "results_ridge = []\n",
    "\n",
    "results_ridge.append({\n",
    "        \"train_r2\": r2_score(y_train, y_pred_train),\n",
    "        \"train_mse\": mean_squared_error(y_train, y_pred_train),\n",
    "        \"test_r2\": r2_score(y_test, y_pred_test),\n",
    "        \"test_mse\": mean_squared_error(y_test, y_pred_test),\n",
    "    })\n",
    "\n",
    "df_ridge = pd.DataFrame(results_ridge)\n",
    "\n",
    "print(df_ridge)"
   ]
  },
  {
   "cell_type": "markdown",
   "metadata": {},
   "source": [
    "ELASTICNET"
   ]
  },
  {
   "cell_type": "code",
   "execution_count": 43,
   "metadata": {},
   "outputs": [
    {
     "name": "stdout",
     "output_type": "stream",
     "text": [
      "   train_r2     train_mse   test_r2      test_mse\n",
      "0  0.999263  8.329956e+06  0.997394  9.522615e+06\n"
     ]
    }
   ],
   "source": [
    "from sklearn.linear_model import ElasticNet\n",
    "from sklearn.model_selection import GridSearchCV\n",
    "\n",
    "elastic_model = ElasticNet(alpha = 0.5, random_state= 42)\n",
    "\n",
    "param_grid_elastic = {\n",
    "    \"alpha\": [0.01, 0.1, 1, 10],\n",
    "    \"l1_ratio\": [0.1, 0.5],\n",
    "    \"max_iter\": [100, 300, 1000, 2000],\n",
    "    \"tol\": np.linspace(0.0001, 0.01, 10),\n",
    "}\n",
    "\n",
    "grid_elastic = GridSearchCV(estimator = elastic_model, param_grid = param_grid_elastic, scoring = 'r2', cv = 5, n_jobs = -1)\n",
    "\n",
    "grid_elastic.fit(TRAIN_DATASETS[best_dataset_idx], y_train)\n",
    "\n",
    "y_pred_train = grid_elastic.predict(TRAIN_DATASETS[best_dataset_idx])\n",
    "y_pred_test = grid_elastic.predict(TEST_DATASETS[best_dataset_idx])\n",
    "\n",
    "\n",
    "results_elastic = []\n",
    "\n",
    "results_elastic.append({\n",
    "        \"train_r2\": r2_score(y_train, y_pred_train),\n",
    "        \"train_mse\": mean_squared_error(y_train, y_pred_train),\n",
    "        \"test_r2\": r2_score(y_test, y_pred_test),\n",
    "        \"test_mse\": mean_squared_error(y_test, y_pred_test),\n",
    "    })\n",
    "\n",
    "df_elastic = pd.DataFrame(results_elastic)\n",
    "\n",
    "print(df_elastic)"
   ]
  }
 ],
 "metadata": {
  "kernelspec": {
   "display_name": "Python 3",
   "language": "python",
   "name": "python3"
  },
  "language_info": {
   "codemirror_mode": {
    "name": "ipython",
    "version": 3
   },
   "file_extension": ".py",
   "mimetype": "text/x-python",
   "name": "python",
   "nbconvert_exporter": "python",
   "pygments_lexer": "ipython3",
   "version": "3.12.5"
  }
 },
 "nbformat": 4,
 "nbformat_minor": 2
}
